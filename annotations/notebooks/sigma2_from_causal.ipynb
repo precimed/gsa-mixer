{
 "cells": [
  {
   "cell_type": "code",
   "execution_count": 5,
   "metadata": {},
   "outputs": [],
   "source": [
    "import pandas as pd\n",
    "import os"
   ]
  },
  {
   "cell_type": "code",
   "execution_count": 6,
   "metadata": {},
   "outputs": [],
   "source": [
    "annot_snps_dir = \"/mnt/seagate10/projects/cmm/experiments/hapgen10k11m.utr5_utr3_exon_other\"\n",
    "annot_snps_f_dict = {\"UTR5\":os.path.join(annot_snps_dir,\"hapgen11m.utr5.snps.txt\"),\n",
    "                     \"UTR3\":os.path.join(annot_snps_dir,\"hapgen11m.utr3.snps.txt\"),\n",
    "                     \"EXON\":os.path.join(annot_snps_dir,\"hapgen11m.exon.snps.txt\"),\n",
    "                     \"OTHER\":os.path.join(annot_snps_dir,\"hapgen11m.other.snps.txt\")}\n",
    "sumstats_f = \"/mnt/seagate10/projects/cmm/experiments/hapgen10k11m.utr5_utr3_exon_other/simu_sumstats/simu.hapgen100k11m.qt.hsq0.7.utr5_utr3_exon_other.id16.1.causals\""
   ]
  },
  {
   "cell_type": "code",
   "execution_count": 9,
   "metadata": {},
   "outputs": [
    {
     "name": "stdout",
     "output_type": "stream",
     "text": [
      "UTR5: 1.444E-03\n",
      "UTR3: 1.252E-03\n",
      "EXON: 1.383E-03\n",
      "OTHER: 1.262E-03\n",
      "total: 1.300E-03\n"
     ]
    }
   ],
   "source": [
    "df = pd.read_table(sumstats_f, index_col=\"SNP\")\n",
    "utrs_exon_causals = []\n",
    "for annot_name, annot_f in annot_snps_f_dict.items():\n",
    "    annot_all_snp = pd.read_table(annot_f, header=None, squeeze=True)\n",
    "    annot_causal_snp = df.index.intersection(annot_all_snp)\n",
    "    if annot_name in (\"UTR5\",\"UTR3\",\"EXON\"):\n",
    "        utrs_exon_causals.append(annot_causal_snp.values)\n",
    "    sigma2 = (df.loc[annot_causal_snp,\"BETA_c1\"]**2).sum()/(annot_causal_snp.size - 1)\n",
    "    print(f\"{annot_name}: {sigma2:1.3E}\")\n",
    "sigma2 = (df.BETA_c1**2).sum()/(df.shape[0] - 1)\n",
    "print(f\"total: {sigma2:1.3E}\")"
   ]
  },
  {
   "cell_type": "code",
   "execution_count": 8,
   "metadata": {},
   "outputs": [
    {
     "data": {
      "text/plain": [
       "2722"
      ]
     },
     "execution_count": 8,
     "metadata": {},
     "output_type": "execute_result"
    }
   ],
   "source": [
    "len(df)"
   ]
  },
  {
   "cell_type": "code",
   "execution_count": 12,
   "metadata": {},
   "outputs": [],
   "source": [
    "import numpy as np\n",
    "cc = np.concatenate(utrs_exon_causals)"
   ]
  },
  {
   "cell_type": "code",
   "execution_count": 13,
   "metadata": {},
   "outputs": [
    {
     "data": {
      "text/plain": [
       "1637"
      ]
     },
     "execution_count": 13,
     "metadata": {},
     "output_type": "execute_result"
    }
   ],
   "source": [
    "len(cc)"
   ]
  },
  {
   "cell_type": "code",
   "execution_count": 14,
   "metadata": {},
   "outputs": [],
   "source": [
    "sigma2 = (df.loc[cc,\"BETA_c1\"]**2).sum()/(cc.size - 1)"
   ]
  },
  {
   "cell_type": "code",
   "execution_count": 15,
   "metadata": {},
   "outputs": [
    {
     "data": {
      "text/plain": [
       "0.0013251455156440591"
      ]
     },
     "execution_count": 15,
     "metadata": {},
     "output_type": "execute_result"
    }
   ],
   "source": [
    "sigma2"
   ]
  },
  {
   "cell_type": "code",
   "execution_count": null,
   "metadata": {},
   "outputs": [],
   "source": []
  }
 ],
 "metadata": {
  "kernelspec": {
   "display_name": "Python 3",
   "language": "python",
   "name": "python3"
  },
  "language_info": {
   "codemirror_mode": {
    "name": "ipython",
    "version": 3
   },
   "file_extension": ".py",
   "mimetype": "text/x-python",
   "name": "python",
   "nbconvert_exporter": "python",
   "pygments_lexer": "ipython3",
   "version": "3.7.2"
  }
 },
 "nbformat": 4,
 "nbformat_minor": 2
}
