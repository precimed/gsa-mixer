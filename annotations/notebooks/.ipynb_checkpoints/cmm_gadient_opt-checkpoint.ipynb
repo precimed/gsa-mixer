{
 "cells": [
  {
   "cell_type": "code",
   "execution_count": 1,
   "metadata": {},
   "outputs": [],
   "source": [
    "import numpy as np\n",
    "import random\n",
    "import math\n",
    "from scipy.stats import norm\n",
    "from scipy.integrate import quad\n",
    "from scipy.optimize import minimize, basinhopping\n",
    "import matplotlib.pyplot as plt"
   ]
  },
  {
   "cell_type": "code",
   "execution_count": 2,
   "metadata": {},
   "outputs": [],
   "source": [
    "def sample_z(n, annot, p, s2, s02, r2_het_ss):\n",
    "    z_sample = [random.gauss(0, math.sqrt(s02)) for _ in range(n)]\n",
    "    for i in range(n):\n",
    "        z = 0\n",
    "        for a, r2 in zip(annot,r2_het_ss):\n",
    "            if random.random() < p[a]:\n",
    "                z += random.gauss(0, math.sqrt(s2[a]*r2))\n",
    "        z_sample[i] += z\n",
    "    return z_sample\n",
    "\n",
    "\n",
    "def logistic(x):\n",
    "    \"\"\" Logistic function. Maps [-∞; ∞] -> [0; 1].\n",
    "    \"\"\"\n",
    "    return 1/(1 + math.exp(-x))\n",
    "\n",
    "\n",
    "def logit(x):\n",
    "    \"\"\" Inverse logistic function (logit). Maps [0; 1] -> [-∞; ∞].\n",
    "    \"\"\"\n",
    "    return math.log(x/(1 - x))\n",
    "\n",
    "\n",
    "def ift(x, z, annot, p, s2, s02, r2_het_ss):\n",
    "    res = math.cos(x*z)*math.exp(-0.5*x*x*s02)\n",
    "    for a, r2 in zip(annot, r2_het_ss):\n",
    "        res *= 1-p[a] + p[a]*math.exp(-0.5*x*x*s2[a]*r2)\n",
    "    return res\n",
    "\n",
    "\n",
    "def get_log_likelihood(z_vec, annot, p, s2, s02, r2_het_ss):\n",
    "    log_likelihood = 0\n",
    "    for z in z_vec:\n",
    "        ift_z = lambda x: ift(x, z, annot, p, s2, s02, r2_het_ss)\n",
    "        log_likelihood += -math.log(quad(ift_z, 0, np.inf)[0]/math.pi)\n",
    "    return log_likelihood/len(z_vec)\n",
    "\n",
    "\n",
    "def ift_p(x, z, annot, p, s2, s02, r2_het_ss, p_ind):\n",
    "    \"\"\" (f*g*h)' = f'*g*h + f*g'*h + f*g*h'\n",
    "           der       i0       i1       i2                \n",
    "    \"\"\"\n",
    "    der = 0 # derivative = (f*g*h)'\n",
    "    half_xx = 0.5*x*x\n",
    "    for i in range(len(annot)):\n",
    "        if annot[i] == p_ind:\n",
    "            res = 1\n",
    "            for j, (a, r2) in enumerate(zip(annot, r2_het_ss)):\n",
    "                if j != i:\n",
    "                    res *= 1-p[a] + p[a]*math.exp(-half_xx*s2[a]*r2)\n",
    "                else:\n",
    "                    res *= -1 + math.exp(-half_xx*s2[a]*r2)\n",
    "            der += res\n",
    "    der *= math.cos(x*z)*math.exp(-half_xx*s02)\n",
    "    return der\n",
    "\n",
    "def ift_s2(x, z, annot, p, s2, s02, r2_het_ss, s2_ind):\n",
    "    der = 0\n",
    "    half_xx = 0.5*x*x\n",
    "    for i in range(len(annot)):\n",
    "        if annot[i] == s2_ind:\n",
    "            res = 1\n",
    "            for j, (a, r2) in enumerate(zip(annot, r2_het_ss)):\n",
    "                if j != i:\n",
    "                    res *= 1-p[a] + p[a]*math.exp(-half_xx*s2[a]*r2)\n",
    "                else:\n",
    "                    res *= p[a]*math.exp(-half_xx*s2[a]*r2)*(-half_xx*r2)\n",
    "            der += res\n",
    "    der *= math.cos(x*z)*math.exp(-half_xx*s02)\n",
    "    return der\n",
    "\n",
    "def ift_s02(x, z, annot, p, s2, s02, r2_het_ss):\n",
    "    der = math.cos(x*z)*math.exp(-0.5*x*x*s02)*(-0.5*x*x)\n",
    "    for a, r2 in zip(annot, r2_het_ss):\n",
    "        der *= 1-p[a] + p[a]*math.exp(-0.5*x*x*s2[a]*r2)\n",
    "    return der\n",
    "\n",
    "\n",
    "def get_log_likelihood_derivative(z_vec, annot, p, s2, s02, r2_het_ss):\n",
    "    \"\"\" \n",
    "    assume we have n anootation categories and f is our likelihood function, then:\n",
    "    gradient = [f_p1, f_p2, ..., f_pn, f_s21, f_s22, ..., f_s2n, f_s02], f = -log_likelihood\n",
    "    f' = [-log(g)]' = -(1/g * g'), g = likelihood\n",
    "    \"\"\"\n",
    "    n_annot = len(set(annot))\n",
    "    gradient = [0 for _ in range(2*n_annot+1)]\n",
    "        \n",
    "    for z in z_vec:\n",
    "        ift_z = lambda x: ift(x, z, annot, p, s2, s02, r2_het_ss)\n",
    "        likelihood_z = quad(ift_z, 0, np.inf)[0]/math.pi\n",
    "        for i in range(n_annot):\n",
    "            # get p derivative\n",
    "            ift_z_pi = lambda x: ift_p(x, z, annot, p, s2, s02, r2_het_ss, i)\n",
    "            likelihood_z_pi = quad(ift_z_pi, 0, np.inf)[0]/math.pi\n",
    "            gradient[i] += -likelihood_z_pi/likelihood_z\n",
    "            \n",
    "            # get s2 derivative\n",
    "            ift_z_s2i = lambda x: ift_s2(x, z, annot, p, s2, s02, r2_het_ss, i)\n",
    "            likelihood_z_s2i = quad(ift_z_s2i, 0, np.inf)[0]/math.pi\n",
    "            gradient[i+n_annot] += -likelihood_z_s2i/likelihood_z\n",
    "        # get s02 derivative\n",
    "        ift_z_s02 = lambda x: ift_s02(x, z, annot, p, s2, s02, r2_het_ss)\n",
    "        likelihood_z_s02 = quad(ift_z_s02, 0, np.inf)[0]/math.pi\n",
    "        gradient[-1] += -likelihood_z_s02/likelihood_z\n",
    "    # devide all elements of gradient by len(z_vec)    \n",
    "    return np.array([x/len(z_vec) for x in gradient])"
   ]
  },
  {
   "cell_type": "code",
   "execution_count": 3,
   "metadata": {},
   "outputs": [],
   "source": [
    "annot = [0, 0, 0, 0] # [0, 0, 0, 0, 0]\n",
    "r2_het_ss = [3421, 6436, 10234, 554, 9257] # [1, 1, 1, 1, 1] # [3421, 6436, 10234, 554, 9257]\n",
    "p =  [0.4]\n",
    "s2 = [1E-4]\n",
    "s02 = 1.0\n",
    "n_z_samples = 1000\n",
    "assert len(set(annot)) == len(p) == len(s2)"
   ]
  },
  {
   "cell_type": "code",
   "execution_count": 4,
   "metadata": {},
   "outputs": [],
   "source": [
    "z_sample = sample_z(n_z_samples, annot, p, s2, s02, r2_het_ss)"
   ]
  },
  {
   "cell_type": "code",
   "execution_count": 5,
   "metadata": {},
   "outputs": [
    {
     "name": "stdout",
     "output_type": "stream",
     "text": [
      "mean = -0.008118089593897003\n",
      "std =  1.339226479037136\n"
     ]
    },
    {
     "data": {
      "image/png": "[encoded data removed]",
      "text/plain": [
       "<Figure size 432x288 with 1 Axes>"
      ]
     },
     "metadata": {
      "needs_background": "light"
     },
     "output_type": "display_data"
    }
   ],
   "source": [
    "plt.hist(z_sample,50,density=True)\n",
    "x = np.linspace(min(z_sample), max(z_sample), 100)\n",
    "plt.plot(x, norm.pdf(x, 0, math.sqrt(s02)), 'r', lw=1, label='pdf')\n",
    "print(f\"mean = {np.mean(z_sample)}\\nstd =  {np.std(z_sample)}\")"
   ]
  },
  {
   "cell_type": "code",
   "execution_count": 6,
   "metadata": {},
   "outputs": [
    {
     "name": "stdout",
     "output_type": "stream",
     "text": [
      "optimum likelihood = 1.7058943347957196\n",
      "optimized likelihood = 5.631252696125516\n",
      "[1.68500119e-02 3.11458645e+01 7.62990867e-03]\n"
     ]
    }
   ],
   "source": [
    "p_in_opt = [1]\n",
    "s2_in_opt = [0.6]\n",
    "z_vec = z_sample # [0.5] # z_sample\n",
    "l_opt = get_log_likelihood(z_vec, annot, p, s2, s02, r2_het_ss)\n",
    "l1 = get_log_likelihood(z_vec, annot, p_in_opt, s2_in_opt, s02, r2_het_ss)\n",
    "print(f\"optimum likelihood = {l_opt}\")\n",
    "print(f\"optimized likelihood = {l1}\")\n",
    "gradient = get_log_likelihood_derivative(z_vec, annot, p, s2, s02, r2_het_ss)\n",
    "print(gradient)"
   ]
  },
  {
   "cell_type": "code",
   "execution_count": 7,
   "metadata": {},
   "outputs": [],
   "source": [
    "# optmization\n",
    "# p_init = p\n",
    "# s2_init = s2\n",
    "# s02_init = s02\n",
    "\n",
    "p_init = [0.8] # [random.random() for _ in p]\n",
    "s2_init = [1E-3] # [random.random() for _ in s2]\n",
    "s02_init = 1.1 # random.random()\n",
    "\n",
    "def cost_func(x, z_sample, annot, r2_het_ss):\n",
    "    \"\"\" x = p + s2 + s02\n",
    "    \"\"\"\n",
    "    n_annot = len(set(annot))\n",
    "    p_in_opt = [logistic(y) for y in x[:n_annot]]\n",
    "    s2_in_opt = [math.exp(y) for y in x[n_annot:-1]]\n",
    "    s02_in_opt = math.exp(x[-1])\n",
    "    minus_log_lik = get_log_likelihood(z_sample, annot, p_in_opt, s2_in_opt, s02_in_opt, r2_het_ss)\n",
    "    print(p_in_opt,s2_in_opt,s02_in_opt,minus_log_lik)\n",
    "    return minus_log_lik\n",
    "\n",
    "def grad_func(x, z_sample, annot, r2_het_ss):\n",
    "    \"\"\" x = p + s2 + s02\n",
    "    \"\"\"\n",
    "    n_annot = len(set(annot))\n",
    "    p_in_opt = [logistic(y) for y in x[:n_annot]]\n",
    "    s2_in_opt = [math.exp(y) for y in x[n_annot:-1]]\n",
    "    s02_in_opt = math.exp(x[-1])\n",
    "    grad = get_log_likelihood_derivative(z_sample, annot, p_in_opt, s2_in_opt, s02_in_opt, r2_het_ss)\n",
    "    print(f\"gradient: {grad}\")\n",
    "    return grad\n",
    "\n",
    "p_init_in_opt = [logit(y) for y in p_init]\n",
    "s2_init_in_opt = [math.log(y) for y in s2_init]\n",
    "s02_init_in_opt = [math.log(s02_init)]\n",
    "\n",
    "x_init_in_opt = p_init_in_opt + s2_init_in_opt + s02_init_in_opt\n",
    "\n",
    "# res_nm = minimize(cost_func, x_init_in_opt, args=(z_sample, annot, r2_het_ss), method='Nelder-Mead',\n",
    "#                options={\"maxiter\":50, \"fatol\":1E-2, \"xatol\":1E-5})"
   ]
  },
  {
   "cell_type": "code",
   "execution_count": null,
   "metadata": {},
   "outputs": [
    {
     "name": "stdout",
     "output_type": "stream",
     "text": [
      "gradient: [7.64503659e-01 4.00791211e+02 3.17912131e-02]\n",
      "[0.8] [0.0010000000000000002] 1.1 2.364784663188398\n",
      "[0.7996915726444987] [0.0003642196499595861] 1.0999118779113153 2.0070369158004184\n",
      "gradient: [4.88650859e-01 8.15992780e+02 5.71107911e-02]\n",
      "[0.7984542991801047] [6.409392432150735e-06] 1.099559460146398 1.7561407064257737\n",
      "gradient: [-2.58134462e-02 -3.39028675e+03 -2.01619307e-01]\n",
      "[0.7994519947120732] [0.00016633806903910224] 1.099843502105394 1.8185983605733114\n",
      "gradient: [2.66061329e-01 1.07970240e+03 7.08041875e-02]\n",
      "[0.7988434916430179] [2.2795535074848566e-05] 1.0996701283155388 1.7203422171554639\n",
      "gradient: [-2.97746221e-02 -1.22756593e+03 -7.04232941e-02]\n",
      "[0.7990641480163114] [4.6840068562725313e-05] 1.0997329488131964 1.7102674512276055\n",
      "gradient: [1.69813006e-02 1.70252077e+02 1.29393749e-02]\n",
      "[0.7993565185346578] [4.647772339511697e-05] 1.0997359809051281 1.7102128309536864\n",
      "gradient: [1.61679080e-02 1.58158280e+02 1.22062322e-02]\n",
      "[0.7991277306097142] [4.676106246580717e-05] 1.099733607928367 1.7102551863561954\n",
      "gradient: [1.68037919e-02 1.67629797e+02 1.27803421e-02]\n",
      "[0.799077666863058] [4.682326079255639e-05] 1.0997330889402872 1.7102648254748787\n",
      "gradient: [1.69435302e-02 1.69694894e+02 1.29055805e-02]\n",
      "[0.7990670084100538] [4.683651184749083e-05] 1.0997329784614855 1.7102668948443682\n",
      "gradient: [1.69733077e-02 1.70134201e+02 1.29322254e-02]\n",
      "[0.7990647526092056] [4.6839316771082465e-05] 1.0997329550798405 1.7102673335902254\n",
      "gradient: [1.69796111e-02 1.70227162e+02 1.29378638e-02]\n",
      "[0.7990642757793702] [4.6839909692643584e-05] 1.0997329501374675 1.7102674263667532\n",
      "gradient: [1.69809436e-02 1.70246812e+02 1.29390556e-02]\n",
      "[0.7990641750140566] [4.684003499168412e-05] 1.0997329490930294 1.710267445974161\n",
      "gradient: [1.69812252e-02 1.70250964e+02 1.29393075e-02]\n",
      "[0.7990641537211773] [4.6840061468861155e-05] 1.0997329488723278 1.7102674501175015\n",
      "gradient: [1.69812847e-02 1.70251841e+02 1.29393607e-02]\n",
      "[0.7990641492217982] [4.684006706373111e-05] 1.0997329488256913 1.7102674509930267\n",
      "gradient: [1.69812973e-02 1.70252027e+02 1.29393719e-02]\n",
      "[0.799064148271041] [4.684006824597518e-05] 1.0997329488158367 1.7102674511780342\n",
      "gradient: [1.69812999e-02 1.70252066e+02 1.29393743e-02]\n",
      "[0.7990641480701379] [4.684006849579331e-05] 1.0997329488137544 1.7102674512171296\n",
      "gradient: [1.69813005e-02 1.70252074e+02 1.29393748e-02]\n",
      "[0.7990641480276854] [4.684006854858202e-05] 1.0997329488133143 1.7102674512253904\n",
      "gradient: [1.69813006e-02 1.70252076e+02 1.29393749e-02]\n",
      "[0.7990641480187148] [4.684006855973668e-05] 1.0997329488132213 1.7102674512271336\n",
      "gradient: [1.69813006e-02 1.70252076e+02 1.29393749e-02]\n",
      "[0.7990641480168192] [4.684006856209379e-05] 1.0997329488132017 1.7102674512275058\n",
      "gradient: [1.69813006e-02 1.70252077e+02 1.29393749e-02]\n",
      "[0.7990641480164186] [4.6840068562591855e-05] 1.0997329488131975 1.710267451227584\n",
      "gradient: [1.69813006e-02 1.70252077e+02 1.29393749e-02]\n",
      "[0.7990641480163341] [4.6840068562697104e-05] 1.0997329488131966 1.7102674512276013\n",
      "gradient: [1.69813006e-02 1.70252077e+02 1.29393749e-02]\n",
      "[0.7990641480163161] [4.684006856271932e-05] 1.0997329488131964 1.710267451227604\n",
      "gradient: [1.69813006e-02 1.70252077e+02 1.29393749e-02]\n",
      "[0.7990641480163124] [4.6840068562724067e-05] 1.0997329488131964 1.7102674512276037\n",
      "gradient: [1.69813006e-02 1.70252077e+02 1.29393749e-02]\n",
      "[0.7990641480163148] [4.684006856272099e-05] 1.0997329488131964 1.7102674512276048\n",
      "gradient: [1.69813006e-02 1.70252077e+02 1.29393749e-02]\n",
      "[0.7990641480163129] [4.68400685627234e-05] 1.0997329488131964 1.710267451227603\n",
      "gradient: [1.69813006e-02 1.70252077e+02 1.29393749e-02]\n",
      "[0.7990641480163134] [4.68400685627229e-05] 1.0997329488131964 1.7102674512276048\n",
      "gradient: [1.69813006e-02 1.70252077e+02 1.29393749e-02]\n",
      "[0.799064148016313] [4.6840068562723314e-05] 1.0997329488131964 1.7102674512276022\n",
      "gradient: [1.69813006e-02 1.70252077e+02 1.29393749e-02]\n",
      "[0.7990641480163131] [4.684006856272323e-05] 1.0997329488131964 1.7102674512276033\n",
      "gradient: [1.69813006e-02 1.70252077e+02 1.29393749e-02]\n",
      "[0.799064148016313] [4.684006856272323e-05] 1.0997329488131964 1.7102674512276033\n",
      "gradient: [1.69813006e-02 1.70252077e+02 1.29393749e-02]\n",
      "[0.799064148016313] [4.6840068562723314e-05] 1.0997329488131964 1.7102674512276022\n"
     ]
    }
   ],
   "source": [
    "# res_nm = minimize(cost_func, x_init_in_opt, args=(z_sample, annot, r2_het_ss), method='Nelder-Mead',\n",
    "#                options={\"maxiter\":50, \"fatol\":1E-2, \"xatol\":1E-5})\n",
    "# res_bfgs = minimize(cost_func, res_nm.x, args=(z_sample, annot, r2_het_ss), method='BFGS',\n",
    "#                jac=grad_func, options={\"maxiter\":10, \"gtol\":1E-3}) # , \"norm\":2.\n",
    "\n",
    "# minimizer_kwargs = {\"args\":(z_sample, annot, r2_het_ss), \"method\": \"Nelder-Mead\", \"options\":{\"maxiter\":10}}\n",
    "# res_basin = basinhopping(cost_func, x_init_in_opt, niter=20,minimizer_kwargs=minimizer_kwargs)\n",
    "\n",
    "minimizer_kwargs = {\"args\":(z_sample, annot, r2_het_ss), \"method\": \"BFGS\", \"jac\":grad_func,\n",
    "                    \"options\":{\"maxiter\":5}}\n",
    "res_basin = basinhopping(cost_func, x_init_in_opt, niter=20,minimizer_kwargs=minimizer_kwargs)"
   ]
  },
  {
   "cell_type": "code",
   "execution_count": 39,
   "metadata": {},
   "outputs": [
    {
     "name": "stdout",
     "output_type": "stream",
     "text": [
      "                        fun: 1.7057695531489812\n",
      " lowest_optimization_result:  final_simplex: (array([[ 8.05554434e-01, -9.78798284e+00, -1.08785781e-03],\n",
      "       [ 8.22611694e-01, -9.79110554e+00, -1.07341677e-03],\n",
      "       [ 8.14804147e-01, -9.84868987e+00, -1.05138089e-03],\n",
      "       [ 8.13725418e-01, -9.85157236e+00, -1.08380310e-03]]), array([1.70576955, 1.70579141, 1.70581887, 1.70582899]))\n",
      "           fun: 1.7057695531489812\n",
      "       message: 'Maximum number of iterations has been exceeded.'\n",
      "          nfev: 21\n",
      "           nit: 10\n",
      "        status: 2\n",
      "       success: False\n",
      "             x: array([ 8.05554434e-01, -9.78798284e+00, -1.08785781e-03])\n",
      "                    message: ['requested number of basinhopping iterations completed successfully']\n",
      "      minimization_failures: 21\n",
      "                       nfev: 425\n",
      "                        nit: 20\n",
      "                          x: array([ 8.05554434e-01, -9.78798284e+00, -1.08785781e-03])\n",
      "[0.6911613730321382] [5.6121990474486066e-05] 0.9989127336954803\n"
     ]
    }
   ],
   "source": [
    "res = res_basin\n",
    "print(res)\n",
    "n_annot = len(set(annot))\n",
    "p_in_opt = [logistic(y) for y in res.x[:n_annot]]\n",
    "s2_in_opt = [math.exp(y) for y in res.x[n_annot:-1]]\n",
    "s02_in_opt = math.exp(res.x[-1])\n",
    "print(p_in_opt, s2_in_opt, s02_in_opt)"
   ]
  },
  {
   "cell_type": "code",
   "execution_count": 223,
   "metadata": {},
   "outputs": [
    {
     "name": "stdout",
     "output_type": "stream",
     "text": [
      "      fun: 1.7093587202517613\n",
      " hess_inv: array([[1, 0, 0],\n",
      "       [0, 1, 0],\n",
      "       [0, 0, 1]])\n",
      "      jac: array([-0.0002014 ,  0.00058213, -0.0003277 ])\n",
      "  message: 'Optimization terminated successfully.'\n",
      "     nfev: 1\n",
      "      nit: 0\n",
      "     njev: 1\n",
      "   status: 0\n",
      "  success: True\n",
      "        x: array([-1.3499931 , -0.47594811,  0.2467628 ])\n",
      "[0.20587149926417395] [0.6212957232232538] 1.2798754867895286\n"
     ]
    }
   ],
   "source": [
    "print(res_bfgs)\n",
    "n_annot = len(set(annot))\n",
    "p_in_opt = [logistic(y) for y in res_bfgs.x[:n_annot]]\n",
    "s2_in_opt = [math.exp(y) for y in res_bfgs.x[n_annot:-1]]\n",
    "s02_in_opt = math.exp(res_bfgs.x[-1])\n",
    "print(p_in_opt, s2_in_opt, s02_in_opt)"
   ]
  },
  {
   "cell_type": "code",
   "execution_count": 178,
   "metadata": {},
   "outputs": [],
   "source": [
    "s2 = 2\n",
    "x = 0.5\n",
    "normal_pdf_der = lambda x: -(math.pi/(math.sqrt(2*math.pi*s2))**3)*math.exp(-x*x/(2*s2)) + \\\n",
    "                                  (math.exp(-x*x/(2*s2))/math.sqrt(2*math.pi*s2))*(x*x/(2*s2*s2))\n",
    "normal_pdf_der1 = lambda x: (math.exp(-x*x/(2*s2))/math.sqrt(2*math.pi*s2))*(x*x/(2*s2*s2) - 1/(2*s2))"
   ]
  },
  {
   "cell_type": "code",
   "execution_count": 179,
   "metadata": {},
   "outputs": [
    {
     "data": {
      "text/plain": [
       "(-0.057969522700256265, -0.05796952270025625)"
      ]
     },
     "execution_count": 179,
     "metadata": {},
     "output_type": "execute_result"
    }
   ],
   "source": [
    "normal_pdf_der(x), normal_pdf_der1(x)"
   ]
  },
  {
   "cell_type": "code",
   "execution_count": 180,
   "metadata": {},
   "outputs": [
    {
     "data": {
      "text/plain": [
       "-0.057969335076624155"
      ]
     },
     "execution_count": 180,
     "metadata": {},
     "output_type": "execute_result"
    }
   ],
   "source": [
    "(norm.pdf(x,0,math.sqrt(s2+1E-5)) - norm.pdf(x,0,math.sqrt(s2)))/1E-5"
   ]
  },
  {
   "cell_type": "code",
   "execution_count": 181,
   "metadata": {},
   "outputs": [
    {
     "data": {
      "text/plain": [
       "0.21875"
      ]
     },
     "execution_count": 181,
     "metadata": {},
     "output_type": "execute_result"
    }
   ],
   "source": [
    "-normal_pdf_der1(x)/norm.pdf(x,0,math.sqrt(s2))"
   ]
  },
  {
   "cell_type": "code",
   "execution_count": null,
   "metadata": {},
   "outputs": [],
   "source": []
  }
 ],
 "metadata": {
  "kernelspec": {
   "display_name": "Python 3",
   "language": "python",
   "name": "python3"
  },
  "language_info": {
   "codemirror_mode": {
    "name": "ipython",
    "version": 3
   },
   "file_extension": ".py",
   "mimetype": "text/x-python",
   "name": "python",
   "nbconvert_exporter": "python",
   "pygments_lexer": "ipython3",
   "version": "3.7.2"
  }
 },
 "nbformat": 4,
 "nbformat_minor": 2
}
