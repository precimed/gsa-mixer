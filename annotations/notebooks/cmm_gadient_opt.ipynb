{
 "cells": [
  {
   "cell_type": "code",
   "execution_count": 12,
   "metadata": {},
   "outputs": [],
   "source": [
    "import numpy as np\n",
    "import random\n",
    "import math\n",
    "from scipy.stats import norm\n",
    "from scipy.integrate import quad\n",
    "from scipy.optimize import minimize, basinhopping\n",
    "import matplotlib.pyplot as plt"
   ]
  },
  {
   "cell_type": "code",
   "execution_count": 42,
   "metadata": {},
   "outputs": [],
   "source": [
    "def sample_z(n, annot, p, s2, s02, r2_het_ss):\n",
    "    z_sample = [random.gauss(0, math.sqrt(s02)) for _ in range(n)]\n",
    "    for i in range(n):\n",
    "        z = 0\n",
    "        for a, r2 in zip(annot,r2_het_ss):\n",
    "            if random.random() < p[a]:\n",
    "                z += random.gauss(0, math.sqrt(s2[a]*r2))\n",
    "        z_sample[i] += z\n",
    "    return z_sample\n",
    "\n",
    "\n",
    "def logistic(x):\n",
    "    \"\"\" Logistic function. Maps [-∞; ∞] -> [0; 1].\n",
    "    \"\"\"\n",
    "    return 1/(1 + math.exp(-x))\n",
    "\n",
    "\n",
    "def logit(x):\n",
    "    \"\"\" Inverse logistic function (logit). Maps [0; 1] -> [-∞; ∞].\n",
    "    \"\"\"\n",
    "    return math.log(x/(1 - x))\n",
    "\n",
    "\n",
    "def ift(x, z, annot, p, s2, s02, r2_het_ss):\n",
    "    res = math.cos(x*z)*math.exp(-0.5*x*x*s02)\n",
    "    for a, r2 in zip(annot, r2_het_ss):\n",
    "        res *= 1-p[a] + p[a]*math.exp(-0.5*x*x*s2[a]*r2)\n",
    "    return res\n",
    "\n",
    "\n",
    "def get_log_likelihood(z_vec, annot, p, s2, s02, r2_het_ss):\n",
    "    log_likelihood = 0\n",
    "    for z in z_vec:\n",
    "        ift_z = lambda x: ift(x, z, annot, p, s2, s02, r2_het_ss)\n",
    "        log_likelihood += -math.log(quad(ift_z, 0, np.inf)[0]/math.pi)\n",
    "    return log_likelihood/len(z_vec)\n",
    "\n",
    "\n",
    "def ift_p(x, z, annot, p, s2, s02, r2_het_ss, p_ind):\n",
    "    \"\"\" (f*g*h)' = f'*g*h + f*g'*h + f*g*h'\n",
    "           der       i0       i1       i2                \n",
    "    \"\"\"\n",
    "    der = 0 # derivative = (f*g*h)'\n",
    "    half_xx = 0.5*x*x\n",
    "    for i in range(len(annot)):\n",
    "        if annot[i] == p_ind:\n",
    "            res = 1\n",
    "            for j, (a, r2) in enumerate(zip(annot, r2_het_ss)):\n",
    "                if j != i:\n",
    "                    res *= 1-p[a] + p[a]*math.exp(-half_xx*s2[a]*r2)\n",
    "                else:\n",
    "                    res *= -1 + math.exp(-half_xx*s2[a]*r2)\n",
    "            der += res\n",
    "    der *= math.cos(x*z)*math.exp(-half_xx*s02)\n",
    "    return der\n",
    "\n",
    "def ift_s2(x, z, annot, p, s2, s02, r2_het_ss, s2_ind):\n",
    "    der = 0\n",
    "    half_xx = 0.5*x*x\n",
    "    for i in range(len(annot)):\n",
    "        if annot[i] == s2_ind:\n",
    "            res = 1\n",
    "            for j, (a, r2) in enumerate(zip(annot, r2_het_ss)):\n",
    "                if j != i:\n",
    "                    res *= 1-p[a] + p[a]*math.exp(-half_xx*s2[a]*r2)\n",
    "                else:\n",
    "                    res *= p[a]*math.exp(-half_xx*s2[a]*r2)*(-half_xx*r2)\n",
    "            der += res\n",
    "    der *= math.cos(x*z)*math.exp(-half_xx*s02)\n",
    "    return der\n",
    "\n",
    "def ift_s02(x, z, annot, p, s2, s02, r2_het_ss):\n",
    "    der = math.cos(x*z)*math.exp(-0.5*x*x*s02)*(-0.5*x*x)\n",
    "    for a, r2 in zip(annot, r2_het_ss):\n",
    "        der *= 1-p[a] + p[a]*math.exp(-0.5*x*x*s2[a]*r2)\n",
    "    return der\n",
    "\n",
    "\n",
    "def get_log_likelihood_derivative(z_vec, annot, p, s2, s02, r2_het_ss):\n",
    "    \"\"\" \n",
    "    assume we have n anootation categories and f is our likelihood function, then:\n",
    "    gradient = [f_p1, f_p2, ..., f_pn, f_s21, f_s22, ..., f_s2n, f_s02], f = -log_likelihood\n",
    "    f' = [-log(g)]' = -(1/g * g'), g = likelihood\n",
    "    \"\"\"\n",
    "    n_annot = len(set(annot))\n",
    "    gradient = [0 for _ in range(2*n_annot+1)]\n",
    "        \n",
    "    for z in z_vec:\n",
    "        ift_z = lambda x: ift(x, z, annot, p, s2, s02, r2_het_ss)\n",
    "        likelihood_z = quad(ift_z, 0, np.inf)[0]/math.pi\n",
    "        for i in range(n_annot):\n",
    "            # get p derivative\n",
    "            ift_z_pi = lambda x: ift_p(x, z, annot, p, s2, s02, r2_het_ss, i)\n",
    "            likelihood_z_pi = quad(ift_z_pi, 0, np.inf)[0]/math.pi\n",
    "            gradient[i] += -likelihood_z_pi/likelihood_z\n",
    "            \n",
    "            # get s2 derivative\n",
    "            ift_z_s2i = lambda x: ift_s2(x, z, annot, p, s2, s02, r2_het_ss, i)\n",
    "            likelihood_z_s2i = quad(ift_z_s2i, 0, np.inf)[0]/math.pi\n",
    "            gradient[i+n_annot] += -likelihood_z_s2i/likelihood_z\n",
    "        # get s02 derivative\n",
    "        ift_z_s02 = lambda x: ift_s02(x, z, annot, p, s2, s02, r2_het_ss)\n",
    "        likelihood_z_s02 = quad(ift_z_s02, 0, np.inf)[0]/math.pi\n",
    "        gradient[-1] += -likelihood_z_s02/likelihood_z\n",
    "    # devide all elements of gradient by len(z_vec)    \n",
    "    return np.array([x/len(z_vec) for x in gradient])"
   ]
  },
  {
   "cell_type": "code",
   "execution_count": 46,
   "metadata": {},
   "outputs": [
    {
     "name": "stdout",
     "output_type": "stream",
     "text": [
      "[0.29829209 0.11311471 0.20833627 0.04797487 0.05136496]\n"
     ]
    }
   ],
   "source": [
    "# test _cmmcost_omp with z2use = {true, false, false}\n",
    "z_vec = [1.275]\n",
    "annot = [0,1,0]\n",
    "r2_het_ss = [1.593, 0.934, 2.463]\n",
    "p = [1, 1]\n",
    "s2 = [1.17, 2.03]\n",
    "s02 = 1.03\n",
    "\n",
    "gradient = get_log_likelihood_derivative(z_vec, annot, p, s2, s02, r2_het_ss)\n",
    "print(gradient)"
   ]
  },
  {
   "cell_type": "code",
   "execution_count": 34,
   "metadata": {},
   "outputs": [],
   "source": [
    "annot = [0, 0, 0, 0] # [0, 0, 0, 0, 0]\n",
    "r2_het_ss = [3421, 6436, 10234, 554, 9257] # [1, 1, 1, 1, 1] # [3421, 6436, 10234, 554, 9257]\n",
    "p =  [0.4]\n",
    "s2 = [1E-4]\n",
    "s02 = 1.0\n",
    "n_z_samples = 4000\n",
    "assert len(set(annot)) == len(p) == len(s2)"
   ]
  },
  {
   "cell_type": "code",
   "execution_count": 35,
   "metadata": {},
   "outputs": [],
   "source": [
    "z_sample = sample_z(n_z_samples, annot, p, s2, s02, r2_het_ss)"
   ]
  },
  {
   "cell_type": "code",
   "execution_count": 36,
   "metadata": {},
   "outputs": [
    {
     "name": "stdout",
     "output_type": "stream",
     "text": [
      "mean = 0.021350377436065927\n",
      "std =  1.3445206756011023\n"
     ]
    },
    {
     "data": {
      "image/png": "[encoded data removed]",
      "text/plain": [
       "<Figure size 432x288 with 1 Axes>"
      ]
     },
     "metadata": {
      "needs_background": "light"
     },
     "output_type": "display_data"
    }
   ],
   "source": [
    "plt.hist(z_sample,50,density=True)\n",
    "x = np.linspace(min(z_sample), max(z_sample), 100)\n",
    "plt.plot(x, norm.pdf(x, 0, math.sqrt(s02)), 'r', lw=1, label='pdf')\n",
    "print(f\"mean = {np.mean(z_sample)}\\nstd =  {np.std(z_sample)}\")"
   ]
  },
  {
   "cell_type": "code",
   "execution_count": 37,
   "metadata": {},
   "outputs": [
    {
     "name": "stdout",
     "output_type": "stream",
     "text": [
      "optimum likelihood = 1.7151117535333056\n",
      "optimized likelihood = 5.631253285333626\n",
      "[ 3.17440327e-04  2.66930414e+01 -1.29032125e-03]\n"
     ]
    }
   ],
   "source": [
    "p_in_opt = [1]\n",
    "s2_in_opt = [0.6]\n",
    "z_vec = z_sample # [0.5] # z_sample\n",
    "l_opt = get_log_likelihood(z_vec, annot, p, s2, s02, r2_het_ss)\n",
    "l1 = get_log_likelihood(z_vec, annot, p_in_opt, s2_in_opt, s02, r2_het_ss)\n",
    "print(f\"optimum likelihood = {l_opt}\")\n",
    "print(f\"optimized likelihood = {l1}\")\n",
    "gradient = get_log_likelihood_derivative(z_vec, annot, p, s2, s02, r2_het_ss)\n",
    "print(gradient)"
   ]
  },
  {
   "cell_type": "code",
   "execution_count": 38,
   "metadata": {},
   "outputs": [],
   "source": [
    "# optmization\n",
    "p_init = p\n",
    "s2_init = s2\n",
    "s02_init = s02\n",
    "\n",
    "# p_init = [0.8] # [random.random() for _ in p]\n",
    "# s2_init = [1E-3] # [random.random() for _ in s2]\n",
    "# s02_init = 1.1 # random.random()\n",
    "\n",
    "def cost_func(x, z_sample, annot, r2_het_ss):\n",
    "    \"\"\" x = p + s2 + s02\n",
    "    \"\"\"\n",
    "    n_annot = len(set(annot))\n",
    "    p_in_opt = [logistic(y) for y in x[:n_annot]]\n",
    "    s2_in_opt = [math.exp(y) for y in x[n_annot:-1]]\n",
    "    s02_in_opt = math.exp(x[-1])\n",
    "    minus_log_lik = get_log_likelihood(z_sample, annot, p_in_opt, s2_in_opt, s02_in_opt, r2_het_ss)\n",
    "    print(p_in_opt,s2_in_opt,s02_in_opt,minus_log_lik)\n",
    "    return minus_log_lik\n",
    "\n",
    "def grad_func(x, z_sample, annot, r2_het_ss):\n",
    "    \"\"\" x = p + s2 + s02\n",
    "    \"\"\"\n",
    "    n_annot = len(set(annot))\n",
    "    p_in_opt = [logistic(y) for y in x[:n_annot]]\n",
    "    s2_in_opt = [math.exp(y) for y in x[n_annot:-1]]\n",
    "    s02_in_opt = math.exp(x[-1])\n",
    "    grad = get_log_likelihood_derivative(z_sample, annot, p_in_opt, s2_in_opt, s02_in_opt, r2_het_ss)\n",
    "    \n",
    "    # [1/(1 + math.exp(-x))]' = math.exp(-x)/(1 + math.exp(-x))**2\n",
    "    p_transform_der = [math.exp(-y)/(1 + math.exp(-y))**2 for y in x[:n_annot]]\n",
    "    s2_transform_der = [math.exp(y) for y in x[n_annot:-1]]\n",
    "    s02_transform_der = [math.exp(x[-1])]\n",
    "    transform_der = p_transform_der + s2_transform_der + s02_transform_der\n",
    "    grad = np.array([g*d for g,d in zip(grad, transform_der)])\n",
    "   \n",
    "    print(f\"gradient: {grad}\")\n",
    "    return grad\n",
    "\n",
    "p_init_in_opt = [logit(y) for y in p_init]\n",
    "s2_init_in_opt = [math.log(y) for y in s2_init]\n",
    "s02_init_in_opt = [math.log(s02_init)]\n",
    "\n",
    "x_init_in_opt = p_init_in_opt + s2_init_in_opt + s02_init_in_opt\n",
    "\n",
    "# res_nm = minimize(cost_func, x_init_in_opt, args=(z_sample, annot, r2_het_ss), method='Nelder-Mead',\n",
    "#                options={\"maxiter\":50, \"fatol\":1E-2, \"xatol\":1E-5})"
   ]
  },
  {
   "cell_type": "code",
   "execution_count": 39,
   "metadata": {},
   "outputs": [
    {
     "name": "stdout",
     "output_type": "stream",
     "text": [
      "gradient: [ 7.61856785e-05  2.66930414e-03 -1.29032125e-03]\n",
      "[0.4] [0.00010000000000000009] 1.0 1.7151117535333056\n",
      "[0.3999817155764764] [9.97334255282559e-05] 1.001291154068875 1.7151030437942152\n",
      "gradient: [ 2.75518151e-05  2.56355353e-03 -1.37866753e-03]\n",
      "[0.39990858066935914] [9.867421491811173e-05] 1.006472462671126 1.7150698908727189\n",
      "gradient: [-0.00016163  0.00215029 -0.00172907]\n",
      "[0.3996160856848073] [9.454867667820603e-05] 1.0274672014730442 1.71496178721215\n",
      "gradient: [-0.00083443  0.00065137 -0.00307696]\n",
      "[0.3994071536396528] [8.436551710413212e-05] 1.0940579778373944 1.714767307419681\n",
      "gradient: [-0.00142892 -0.00129023 -0.00458011]\n",
      "[0.3996059232918868] [7.365734548920146e-05] 1.1879055702041739 1.7146158048360258\n",
      "gradient: [-0.00069468 -0.00090245 -0.00267273]\n",
      "[0.39978910193951966] [6.507926199481402e-05] 1.282064506342932 1.714594978429007\n",
      "gradient: [0.00058102 0.00078043 0.00219905]\n",
      "[0.3997037382176686] [6.865734752234275e-05] 1.2403437717512213 1.7145837522251353\n",
      "gradient: [-1.99644538e-05 -6.25109339e-05 -3.03323031e-04]\n",
      "[0.39969898324146097] [6.795675940534694e-05] 1.2479775366365509 1.7145830407175544\n",
      "gradient: [7.73701589e-05 6.63873801e-05 7.98069659e-05]\n"
     ]
    }
   ],
   "source": [
    "# res_nm = minimize(cost_func, x_init_in_opt, args=(z_sample, annot, r2_het_ss), method='Nelder-Mead',\n",
    "#                options={\"maxiter\":50, \"fatol\":1E-2, \"xatol\":1E-5})\n",
    "res_bfgs = minimize(cost_func, x_init_in_opt, args=(z_sample, annot, r2_het_ss), method='BFGS',\n",
    "               jac=grad_func, options={\"maxiter\":20, \"gtol\":1E-4}) # , \"norm\":2.\n",
    "\n",
    "# minimizer_kwargs = {\"args\":(z_sample, annot, r2_het_ss), \"method\": \"Nelder-Mead\", \"options\":{\"maxiter\":10}}\n",
    "# res_basin = basinhopping(cost_func, x_init_in_opt, niter=20,minimizer_kwargs=minimizer_kwargs)\n",
    "\n",
    "# minimizer_kwargs = {\"args\":(z_sample, annot, r2_het_ss), \"method\": \"BFGS\", \"jac\":grad_func,\n",
    "#                     \"options\":{\"maxiter\":5}}\n",
    "# res_basin = basinhopping(cost_func, x_init_in_opt, niter=20,minimizer_kwargs=minimizer_kwargs)"
   ]
  },
  {
   "cell_type": "code",
   "execution_count": 39,
   "metadata": {},
   "outputs": [
    {
     "name": "stdout",
     "output_type": "stream",
     "text": [
      "                        fun: 1.7057695531489812\n",
      " lowest_optimization_result:  final_simplex: (array([[ 8.05554434e-01, -9.78798284e+00, -1.08785781e-03],\n",
      "       [ 8.22611694e-01, -9.79110554e+00, -1.07341677e-03],\n",
      "       [ 8.14804147e-01, -9.84868987e+00, -1.05138089e-03],\n",
      "       [ 8.13725418e-01, -9.85157236e+00, -1.08380310e-03]]), array([1.70576955, 1.70579141, 1.70581887, 1.70582899]))\n",
      "           fun: 1.7057695531489812\n",
      "       message: 'Maximum number of iterations has been exceeded.'\n",
      "          nfev: 21\n",
      "           nit: 10\n",
      "        status: 2\n",
      "       success: False\n",
      "             x: array([ 8.05554434e-01, -9.78798284e+00, -1.08785781e-03])\n",
      "                    message: ['requested number of basinhopping iterations completed successfully']\n",
      "      minimization_failures: 21\n",
      "                       nfev: 425\n",
      "                        nit: 20\n",
      "                          x: array([ 8.05554434e-01, -9.78798284e+00, -1.08785781e-03])\n",
      "[0.6911613730321382] [5.6121990474486066e-05] 0.9989127336954803\n"
     ]
    }
   ],
   "source": [
    "res = res_basin\n",
    "print(res)\n",
    "n_annot = len(set(annot))\n",
    "p_in_opt = [logistic(y) for y in res.x[:n_annot]]\n",
    "s2_in_opt = [math.exp(y) for y in res.x[n_annot:-1]]\n",
    "s02_in_opt = math.exp(res.x[-1])\n",
    "print(p_in_opt, s2_in_opt, s02_in_opt)"
   ]
  },
  {
   "cell_type": "code",
   "execution_count": 40,
   "metadata": {},
   "outputs": [
    {
     "name": "stdout",
     "output_type": "stream",
     "text": [
      "      fun: 1.7145830407175544\n",
      " hess_inv: array([[  0.99141755,   0.26499002,  -0.18519934],\n",
      "       [  0.26499002,  94.66431233, -53.34045451],\n",
      "       [ -0.18519934, -53.34045451,  31.23321301]])\n",
      "      jac: array([7.73701589e-05, 6.63873801e-05, 7.98069659e-05])\n",
      "  message: 'Optimization terminated successfully.'\n",
      "     nfev: 9\n",
      "      nit: 6\n",
      "     njev: 9\n",
      "   status: 0\n",
      "  success: True\n",
      "        x: array([-0.4067195 , -9.59663895,  0.22152427])\n",
      "[0.39969898324146097] [6.795675940534694e-05] 1.2479775366365509\n",
      "Optimal: [0.4] [0.0001] 1.0\n"
     ]
    }
   ],
   "source": [
    "print(res_bfgs)\n",
    "n_annot = len(set(annot))\n",
    "p_in_opt = [logistic(y) for y in res_bfgs.x[:n_annot]]\n",
    "s2_in_opt = [math.exp(y) for y in res_bfgs.x[n_annot:-1]]\n",
    "s02_in_opt = math.exp(res_bfgs.x[-1])\n",
    "print(p_in_opt, s2_in_opt, s02_in_opt)\n",
    "print(f\"Optimal: {p} {s2} {s02}\")"
   ]
  },
  {
   "cell_type": "code",
   "execution_count": 178,
   "metadata": {},
   "outputs": [],
   "source": [
    "s2 = 2\n",
    "x = 0.5\n",
    "normal_pdf_der = lambda x: -(math.pi/(math.sqrt(2*math.pi*s2))**3)*math.exp(-x*x/(2*s2)) + \\\n",
    "                                  (math.exp(-x*x/(2*s2))/math.sqrt(2*math.pi*s2))*(x*x/(2*s2*s2))\n",
    "normal_pdf_der1 = lambda x: (math.exp(-x*x/(2*s2))/math.sqrt(2*math.pi*s2))*(x*x/(2*s2*s2) - 1/(2*s2))"
   ]
  },
  {
   "cell_type": "code",
   "execution_count": 179,
   "metadata": {},
   "outputs": [
    {
     "data": {
      "text/plain": [
       "(-0.057969522700256265, -0.05796952270025625)"
      ]
     },
     "execution_count": 179,
     "metadata": {},
     "output_type": "execute_result"
    }
   ],
   "source": [
    "normal_pdf_der(x), normal_pdf_der1(x)"
   ]
  },
  {
   "cell_type": "code",
   "execution_count": 180,
   "metadata": {},
   "outputs": [
    {
     "data": {
      "text/plain": [
       "-0.057969335076624155"
      ]
     },
     "execution_count": 180,
     "metadata": {},
     "output_type": "execute_result"
    }
   ],
   "source": [
    "(norm.pdf(x,0,math.sqrt(s2+1E-5)) - norm.pdf(x,0,math.sqrt(s2)))/1E-5"
   ]
  },
  {
   "cell_type": "code",
   "execution_count": 181,
   "metadata": {},
   "outputs": [
    {
     "data": {
      "text/plain": [
       "0.21875"
      ]
     },
     "execution_count": 181,
     "metadata": {},
     "output_type": "execute_result"
    }
   ],
   "source": [
    "-normal_pdf_der1(x)/norm.pdf(x,0,math.sqrt(s2))"
   ]
  },
  {
   "cell_type": "code",
   "execution_count": 20,
   "metadata": {},
   "outputs": [
    {
     "name": "stdout",
     "output_type": "stream",
     "text": [
      "gradient: [1.356751518275716, 0.2422887974812564, 0.1300191125852796]\n"
     ]
    },
    {
     "data": {
      "text/plain": [
       "[1.356751518275716, 0.2422887974812564, 0.1300191125852796]"
      ]
     },
     "execution_count": 20,
     "metadata": {},
     "output_type": "execute_result"
    }
   ],
   "source": [
    "grad_func(p+s2+[s02], z_sample, annot, r2_het_ss)"
   ]
  },
  {
   "cell_type": "code",
   "execution_count": 9,
   "metadata": {},
   "outputs": [
    {
     "name": "stdout",
     "output_type": "stream",
     "text": [
      "Likelihood derivative sb2[0] = 0.07922259969273605\n",
      "Likelihood derivative sb2[1] = 0.08021267602154018\n",
      "Likelihood derivative sb2[2] = 0.025791314143875393\n",
      "Likelihood derivative s02 = 0.049707571334653616\n"
     ]
    }
   ],
   "source": [
    "# Test from _cmmcost_omp.c with z2use = {true, true, true}\n",
    "def normal_pdf_derivative(x, s2):\n",
    "    return (math.exp(-x*x/(2*s2))/math.sqrt(2*math.pi*s2))*(x*x/(2*s2*s2) - 1/(2*s2))\n",
    "z_vec = [1.275, -0.496, 2.983]\n",
    "# SNP   S2_eff (see _cmmcost_omp.c, main())\n",
    "# 0     1.593*1.17 + 0.934*2.03 + 2.463*1.17 + 1.03 = 7.671539999999999\n",
    "# 1     0.719*0.954 + 1.847*2.03 + 1.03 = 5.465336\n",
    "# 2     3.012*2.03 + 1.927*1.17 + 0.896*1.17 + 1.401*0.954 + 1.03 = 11.783824\n",
    "#\n",
    "# sb2 = {1.17, 2.03, 0.954}\n",
    "s2_eff_vec = [7.671539999999999, 5.465336, 11.783824]\n",
    "likelihood_der_sb2_0 = 0\n",
    "likelihood_der_sb2_0 += -(1.593 + 2.463)*normal_pdf_derivative(z_vec[0], s2_eff_vec[0])/norm.pdf(z_vec[0],0,math.sqrt(s2_eff_vec[0]))\n",
    "likelihood_der_sb2_0 += -(1.927 + 0.896)*normal_pdf_derivative(z_vec[2], s2_eff_vec[2])/norm.pdf(z_vec[2],0,math.sqrt(s2_eff_vec[2]))\n",
    "likelihood_der_sb2_0 /= 3\n",
    "print(f\"Likelihood derivative sb2[0] = {likelihood_der_sb2_0}\")\n",
    "\n",
    "likelihood_der_sb2_1 = 0\n",
    "likelihood_der_sb2_1 += -(0.934)*normal_pdf_derivative(z_vec[0], s2_eff_vec[0])/norm.pdf(z_vec[0],0,math.sqrt(s2_eff_vec[0]))\n",
    "likelihood_der_sb2_1 += -(1.847)*normal_pdf_derivative(z_vec[1], s2_eff_vec[1])/norm.pdf(z_vec[1],0,math.sqrt(s2_eff_vec[1]))\n",
    "likelihood_der_sb2_1 += -(3.012)*normal_pdf_derivative(z_vec[2], s2_eff_vec[2])/norm.pdf(z_vec[2],0,math.sqrt(s2_eff_vec[2]))\n",
    "likelihood_der_sb2_1 /= 3\n",
    "print(f\"Likelihood derivative sb2[1] = {likelihood_der_sb2_1}\")\n",
    "\n",
    "likelihood_der_sb2_2 = 0\n",
    "likelihood_der_sb2_2 += -(0.719)*normal_pdf_derivative(z_vec[1], s2_eff_vec[1])/norm.pdf(z_vec[1],0,math.sqrt(s2_eff_vec[1]))\n",
    "likelihood_der_sb2_2 += -(1.401)*normal_pdf_derivative(z_vec[2], s2_eff_vec[2])/norm.pdf(z_vec[2],0,math.sqrt(s2_eff_vec[2]))\n",
    "likelihood_der_sb2_2 /= 3\n",
    "print(f\"Likelihood derivative sb2[2] = {likelihood_der_sb2_2}\")\n",
    "\n",
    "likelihood_der_s02 = 0\n",
    "likelihood_der_s02 += -normal_pdf_derivative(z_vec[0], s2_eff_vec[0])/norm.pdf(z_vec[0],0,math.sqrt(s2_eff_vec[0]))\n",
    "likelihood_der_s02 += -normal_pdf_derivative(z_vec[1], s2_eff_vec[1])/norm.pdf(z_vec[1],0,math.sqrt(s2_eff_vec[1]))\n",
    "likelihood_der_s02 += -normal_pdf_derivative(z_vec[2], s2_eff_vec[2])/norm.pdf(z_vec[2],0,math.sqrt(s2_eff_vec[2]))\n",
    "likelihood_der_s02 /= 3\n",
    "print(f\"Likelihood derivative s02 = {likelihood_der_s02}\")"
   ]
  },
  {
   "cell_type": "code",
   "execution_count": 28,
   "metadata": {},
   "outputs": [
    {
     "data": {
      "text/plain": [
       "1.279812543885835e-12"
      ]
     },
     "execution_count": 28,
     "metadata": {},
     "output_type": "execute_result"
    }
   ],
   "source": [
    "norm.cdf(-7)"
   ]
  },
  {
   "cell_type": "code",
   "execution_count": null,
   "metadata": {},
   "outputs": [],
   "source": []
  }
 ],
 "metadata": {
  "kernelspec": {
   "display_name": "Python 3",
   "language": "python",
   "name": "python3"
  },
  "language_info": {
   "codemirror_mode": {
    "name": "ipython",
    "version": 3
   },
   "file_extension": ".py",
   "mimetype": "text/x-python",
   "name": "python",
   "nbconvert_exporter": "python",
   "pygments_lexer": "ipython3",
   "version": "3.7.2"
  }
 },
 "nbformat": 4,
 "nbformat_minor": 2
}
